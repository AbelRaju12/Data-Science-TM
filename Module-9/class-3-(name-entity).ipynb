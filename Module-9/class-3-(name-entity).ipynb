{
 "cells": [
  {
   "cell_type": "code",
   "execution_count": 1,
   "metadata": {},
   "outputs": [],
   "source": [
    "# NER -> identification of key information in the text and classification into a set of predefined categories"
   ]
  },
  {
   "cell_type": "code",
   "execution_count": 2,
   "metadata": {},
   "outputs": [],
   "source": [
    "#word sense diambiguation -> same word dofferent meaning according to context"
   ]
  },
  {
   "cell_type": "code",
   "execution_count": 3,
   "metadata": {},
   "outputs": [],
   "source": [
    "text='Neil Alden Armstrong was an American astronaut and aeronautical engineer who became the first person to walk on the Moon in 1969. He was also a naval aviator, test pilot, and university professor. Armstrong was born and raised in Wapakoneta, Ohio.'"
   ]
  },
  {
   "cell_type": "code",
   "execution_count": 4,
   "metadata": {},
   "outputs": [
    {
     "name": "stderr",
     "output_type": "stream",
     "text": [
      "[nltk_data] Downloading package maxent_ne_chunker to\n",
      "[nltk_data]     C:\\Users\\LENOVO\\AppData\\Roaming\\nltk_data...\n",
      "[nltk_data]   Package maxent_ne_chunker is already up-to-date!\n",
      "[nltk_data] Downloading package words to\n",
      "[nltk_data]     C:\\Users\\LENOVO\\AppData\\Roaming\\nltk_data...\n",
      "[nltk_data]   Package words is already up-to-date!\n",
      "[nltk_data] Downloading package punkt to\n",
      "[nltk_data]     C:\\Users\\LENOVO\\AppData\\Roaming\\nltk_data...\n",
      "[nltk_data]   Package punkt is already up-to-date!\n",
      "[nltk_data] Downloading package averaged_perceptron_tagger to\n",
      "[nltk_data]     C:\\Users\\LENOVO\\AppData\\Roaming\\nltk_data...\n",
      "[nltk_data]   Package averaged_perceptron_tagger is already up-to-\n",
      "[nltk_data]       date!\n"
     ]
    },
    {
     "data": {
      "text/plain": [
       "True"
      ]
     },
     "execution_count": 4,
     "metadata": {},
     "output_type": "execute_result"
    }
   ],
   "source": [
    "import nltk\n",
    "from nltk import ne_chunk\n",
    "nltk.download('maxent_ne_chunker')\n",
    "nltk.download('words')\n",
    "nltk.download('punkt')\n",
    "nltk.download('averaged_perceptron_tagger')"
   ]
  },
  {
   "cell_type": "code",
   "execution_count": 5,
   "metadata": {},
   "outputs": [
    {
     "name": "stdout",
     "output_type": "stream",
     "text": [
      "(S\n",
      "  (PERSON Neil/NNP)\n",
      "  (PERSON Alden/NNP Armstrong/NNP)\n",
      "  was/VBD\n",
      "  an/DT\n",
      "  (GPE American/JJ)\n",
      "  astronaut/NN\n",
      "  and/CC\n",
      "  aeronautical/JJ\n",
      "  engineer/NN\n",
      "  who/WP\n",
      "  became/VBD\n",
      "  the/DT\n",
      "  first/JJ\n",
      "  person/NN\n",
      "  to/TO\n",
      "  walk/VB\n",
      "  on/IN\n",
      "  the/DT\n",
      "  (ORGANIZATION Moon/NNP)\n",
      "  in/IN\n",
      "  1969/CD\n",
      "  ./.\n",
      "  He/PRP\n",
      "  was/VBD\n",
      "  also/RB\n",
      "  a/DT\n",
      "  naval/JJ\n",
      "  aviator/NN\n",
      "  ,/,\n",
      "  test/NN\n",
      "  pilot/NN\n",
      "  ,/,\n",
      "  and/CC\n",
      "  university/NN\n",
      "  professor/NN\n",
      "  ./.\n",
      "  (PERSON Armstrong/NNP)\n",
      "  was/VBD\n",
      "  born/VBN\n",
      "  and/CC\n",
      "  raised/VBN\n",
      "  in/IN\n",
      "  (GPE Wapakoneta/NNP)\n",
      "  ,/,\n",
      "  (GPE Ohio/NNP)\n",
      "  ./.)\n"
     ]
    }
   ],
   "source": [
    "tokens=nltk.word_tokenize(text)\n",
    "tagged=nltk.pos_tag(tokens)\n",
    "ner=ne_chunk(tagged)\n",
    "print(ner)"
   ]
  },
  {
   "cell_type": "code",
   "execution_count": 6,
   "metadata": {},
   "outputs": [
    {
     "name": "stderr",
     "output_type": "stream",
     "text": [
      "[nltk_data] Downloading package wordnet to\n",
      "[nltk_data]     C:\\Users\\LENOVO\\AppData\\Roaming\\nltk_data...\n",
      "[nltk_data]   Package wordnet is already up-to-date!\n"
     ]
    },
    {
     "data": {
      "text/plain": [
       "True"
      ]
     },
     "execution_count": 6,
     "metadata": {},
     "output_type": "execute_result"
    }
   ],
   "source": [
    "#WORD SENSE DISAMBIGUATION\n",
    "text1= 'I love reading books on coding.'\n",
    "text2 = 'The table was already booked by someone else.'\n",
    "from nltk.wsd import lesk\n",
    "nltk.download('wordnet')"
   ]
  },
  {
   "cell_type": "code",
   "execution_count": 7,
   "metadata": {},
   "outputs": [
    {
     "data": {
      "text/plain": [
       "'a number of sheets (ticket or stamps etc.) bound together on one edge'"
      ]
     },
     "execution_count": 7,
     "metadata": {},
     "output_type": "execute_result"
    }
   ],
   "source": [
    "lesk(nltk.word_tokenize(text1),\"book\").definition()"
   ]
  },
  {
   "cell_type": "code",
   "execution_count": 8,
   "metadata": {},
   "outputs": [
    {
     "data": {
      "text/plain": [
       "'arrange for and reserve (something for someone else) in advance'"
      ]
     },
     "execution_count": 8,
     "metadata": {},
     "output_type": "execute_result"
    }
   ],
   "source": [
    "lesk(nltk.word_tokenize(text2),\"book\").definition()"
   ]
  },
  {
   "cell_type": "code",
   "execution_count": null,
   "metadata": {},
   "outputs": [],
   "source": []
  }
 ],
 "metadata": {
  "kernelspec": {
   "display_name": "Python 3",
   "language": "python",
   "name": "python3"
  },
  "language_info": {
   "codemirror_mode": {
    "name": "ipython",
    "version": 3
   },
   "file_extension": ".py",
   "mimetype": "text/x-python",
   "name": "python",
   "nbconvert_exporter": "python",
   "pygments_lexer": "ipython3",
   "version": "3.10.6"
  }
 },
 "nbformat": 4,
 "nbformat_minor": 2
}
