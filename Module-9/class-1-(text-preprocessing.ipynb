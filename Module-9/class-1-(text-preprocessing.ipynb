{
 "cells": [
  {
   "cell_type": "code",
   "execution_count": 1,
   "metadata": {},
   "outputs": [],
   "source": [
    "import nltk"
   ]
  },
  {
   "cell_type": "code",
   "execution_count": 2,
   "metadata": {},
   "outputs": [
    {
     "name": "stderr",
     "output_type": "stream",
     "text": [
      "[nltk_data] Downloading package punkt to\n",
      "[nltk_data]     C:\\Users\\LENOVO\\AppData\\Roaming\\nltk_data...\n",
      "[nltk_data]   Package punkt is already up-to-date!\n"
     ]
    },
    {
     "data": {
      "text/plain": [
       "True"
      ]
     },
     "execution_count": 2,
     "metadata": {},
     "output_type": "execute_result"
    }
   ],
   "source": [
    "#tokenizing\n",
    "nltk.download('punkt')"
   ]
  },
  {
   "cell_type": "code",
   "execution_count": 3,
   "metadata": {},
   "outputs": [],
   "source": [
    "sentence=\"Natural language processing is an interdisciplinary subfield of linguistics, computer science, and artificial intelligence concerned with the interactions between computers and human language, in particular how to program computers to process and analyze large amounts of natural language data.\""
   ]
  },
  {
   "cell_type": "code",
   "execution_count": 4,
   "metadata": {},
   "outputs": [
    {
     "data": {
      "text/plain": [
       "['Natural',\n",
       " 'language',\n",
       " 'processing',\n",
       " 'is',\n",
       " 'an',\n",
       " 'interdisciplinary',\n",
       " 'subfield',\n",
       " 'of',\n",
       " 'linguistics',\n",
       " ',',\n",
       " 'computer',\n",
       " 'science',\n",
       " ',',\n",
       " 'and',\n",
       " 'artificial',\n",
       " 'intelligence',\n",
       " 'concerned',\n",
       " 'with',\n",
       " 'the',\n",
       " 'interactions',\n",
       " 'between',\n",
       " 'computers',\n",
       " 'and',\n",
       " 'human',\n",
       " 'language',\n",
       " ',',\n",
       " 'in',\n",
       " 'particular',\n",
       " 'how',\n",
       " 'to',\n",
       " 'program',\n",
       " 'computers',\n",
       " 'to',\n",
       " 'process',\n",
       " 'and',\n",
       " 'analyze',\n",
       " 'large',\n",
       " 'amounts',\n",
       " 'of',\n",
       " 'natural',\n",
       " 'language',\n",
       " 'data',\n",
       " '.']"
      ]
     },
     "execution_count": 4,
     "metadata": {},
     "output_type": "execute_result"
    }
   ],
   "source": [
    "tokens=nltk.word_tokenize(sentence)\n",
    "tokens"
   ]
  },
  {
   "cell_type": "code",
   "execution_count": 5,
   "metadata": {},
   "outputs": [
    {
     "name": "stderr",
     "output_type": "stream",
     "text": [
      "[nltk_data] Downloading package averaged_perceptron_tagger to\n",
      "[nltk_data]     C:\\Users\\LENOVO\\AppData\\Roaming\\nltk_data...\n",
      "[nltk_data]   Package averaged_perceptron_tagger is already up-to-\n",
      "[nltk_data]       date!\n"
     ]
    },
    {
     "data": {
      "text/plain": [
       "True"
      ]
     },
     "execution_count": 5,
     "metadata": {},
     "output_type": "execute_result"
    }
   ],
   "source": [
    "#pos tagging\n",
    "nltk.download('averaged_perceptron_tagger')"
   ]
  },
  {
   "cell_type": "code",
   "execution_count": 6,
   "metadata": {},
   "outputs": [
    {
     "name": "stdout",
     "output_type": "stream",
     "text": [
      "Natural : [('Natural', 'JJ')]\n",
      "language : [('language', 'NN')]\n",
      "processing : [('processing', 'NN')]\n",
      "is : [('is', 'VBZ')]\n",
      "an : [('an', 'DT')]\n",
      "interdisciplinary : [('interdisciplinary', 'JJ')]\n",
      "subfield : [('subfield', 'NN')]\n",
      "of : [('of', 'IN')]\n",
      "linguistics : [('linguistics', 'NNS')]\n",
      ", : [(',', ',')]\n",
      "computer : [('computer', 'NN')]\n",
      "science : [('science', 'NN')]\n",
      ", : [(',', ',')]\n",
      "and : [('and', 'CC')]\n",
      "artificial : [('artificial', 'JJ')]\n",
      "intelligence : [('intelligence', 'NN')]\n",
      "concerned : [('concerned', 'JJ')]\n",
      "with : [('with', 'IN')]\n",
      "the : [('the', 'DT')]\n",
      "interactions : [('interactions', 'NNS')]\n",
      "between : [('between', 'IN')]\n",
      "computers : [('computers', 'NNS')]\n",
      "and : [('and', 'CC')]\n",
      "human : [('human', 'NN')]\n",
      "language : [('language', 'NN')]\n",
      ", : [(',', ',')]\n",
      "in : [('in', 'IN')]\n",
      "particular : [('particular', 'JJ')]\n",
      "how : [('how', 'WRB')]\n",
      "to : [('to', 'TO')]\n",
      "program : [('program', 'NN')]\n",
      "computers : [('computers', 'NNS')]\n",
      "to : [('to', 'TO')]\n",
      "process : [('process', 'NN')]\n",
      "and : [('and', 'CC')]\n",
      "analyze : [('analyze', 'NN')]\n",
      "large : [('large', 'JJ')]\n",
      "amounts : [('amounts', 'NNS')]\n",
      "of : [('of', 'IN')]\n",
      "natural : [('natural', 'JJ')]\n",
      "language : [('language', 'NN')]\n",
      "data : [('data', 'NNS')]\n",
      ". : [('.', '.')]\n"
     ]
    }
   ],
   "source": [
    "for t in tokens:\n",
    "  print(f'{t} : {nltk.pos_tag([t])}')"
   ]
  },
  {
   "cell_type": "code",
   "execution_count": 7,
   "metadata": {},
   "outputs": [
    {
     "name": "stderr",
     "output_type": "stream",
     "text": [
      "[nltk_data] Downloading package stopwords to\n",
      "[nltk_data]     C:\\Users\\LENOVO\\AppData\\Roaming\\nltk_data...\n",
      "[nltk_data]   Package stopwords is already up-to-date!\n"
     ]
    },
    {
     "data": {
      "text/plain": [
       "True"
      ]
     },
     "execution_count": 7,
     "metadata": {},
     "output_type": "execute_result"
    }
   ],
   "source": [
    "#stopwords\n",
    "from nltk.corpus import stopwords\n",
    "nltk.download('stopwords')"
   ]
  },
  {
   "cell_type": "code",
   "execution_count": 8,
   "metadata": {},
   "outputs": [],
   "source": [
    "stop_words=stopwords.words('english')"
   ]
  },
  {
   "cell_type": "code",
   "execution_count": 9,
   "metadata": {},
   "outputs": [
    {
     "name": "stdout",
     "output_type": "stream",
     "text": [
      "Natural\n",
      "language\n",
      "processing\n",
      "interdisciplinary\n",
      "subfield\n",
      "linguistics\n",
      ",\n",
      "computer\n",
      "science\n",
      ",\n",
      "artificial\n",
      "intelligence\n",
      "concerned\n",
      "interactions\n",
      "computers\n",
      "human\n",
      "language\n",
      ",\n",
      "particular\n",
      "program\n",
      "computers\n",
      "process\n",
      "analyze\n",
      "large\n",
      "amounts\n",
      "natural\n",
      "language\n",
      "data\n",
      ".\n"
     ]
    }
   ],
   "source": [
    "for word in tokens:\n",
    "  if word not in stop_words:\n",
    "    print(word)"
   ]
  },
  {
   "cell_type": "code",
   "execution_count": null,
   "metadata": {},
   "outputs": [],
   "source": []
  }
 ],
 "metadata": {
  "kernelspec": {
   "display_name": "Python 3",
   "language": "python",
   "name": "python3"
  },
  "language_info": {
   "codemirror_mode": {
    "name": "ipython",
    "version": 3
   },
   "file_extension": ".py",
   "mimetype": "text/x-python",
   "name": "python",
   "nbconvert_exporter": "python",
   "pygments_lexer": "ipython3",
   "version": "3.10.6"
  }
 },
 "nbformat": 4,
 "nbformat_minor": 2
}
