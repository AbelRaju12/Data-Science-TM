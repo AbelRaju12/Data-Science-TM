{
  "cells": [
    {
      "cell_type": "markdown",
      "metadata": {
        "id": "xPKesMHXvGAi"
      },
      "source": [
        "##SOLVE THE FOLLOWING\n",
        "1. read the file demotext.txt\n",
        "2. load it into a variable and then close the file\n",
        "3.perform wordwise tokenization\n",
        "4.transform the tokens into smaller case\n",
        "5. remove stopwords\n",
        "6.remove unwanted symbols\n",
        "7. generate bigrams and trigrams for the tokens\n",
        "\n"
      ]
    },
    {
      "cell_type": "code",
      "execution_count": 2,
      "metadata": {
        "id": "ZSJHYZaPuRQg"
      },
      "outputs": [],
      "source": [
        "import nltk\n",
        "from nltk import word_tokenize\n",
        "from nltk.corpus import stopwords\n",
        "from nltk.tokenize import RegexpTokenizer"
      ]
    },
    {
      "cell_type": "code",
      "execution_count": 3,
      "metadata": {
        "colab": {
          "base_uri": "https://localhost:8080/"
        },
        "id": "Er2z5u2sztq7",
        "outputId": "b91dbbd5-2e53-4cb2-a6e6-72fc14abeeb4"
      },
      "outputs": [
        {
          "name": "stderr",
          "output_type": "stream",
          "text": [
            "[nltk_data] Downloading package punkt to /root/nltk_data...\n",
            "[nltk_data]   Unzipping tokenizers/punkt.zip.\n",
            "[nltk_data] Downloading package stopwords to /root/nltk_data...\n",
            "[nltk_data]   Unzipping corpora/stopwords.zip.\n"
          ]
        },
        {
          "data": {
            "text/plain": [
              "True"
            ]
          },
          "execution_count": 3,
          "metadata": {},
          "output_type": "execute_result"
        }
      ],
      "source": [
        "nltk.download('punkt')\n",
        "nltk.download('stopwords')    #corporas"
      ]
    },
    {
      "cell_type": "code",
      "execution_count": 4,
      "metadata": {
        "id": "jAbdYbh60GlP"
      },
      "outputs": [],
      "source": [
        "data=open('/content/demotext.txt',\"r\")\n",
        "info=data.read()\n",
        "data.close()"
      ]
    },
    {
      "cell_type": "code",
      "execution_count": 5,
      "metadata": {
        "colab": {
          "base_uri": "https://localhost:8080/",
          "height": 104
        },
        "id": "pW00t1kt0UjI",
        "outputId": "cf0605d3-4696-4a98-a25e-03aa8f2c8c81"
      },
      "outputs": [
        {
          "data": {
            "application/vnd.google.colaboratory.intrinsic+json": {
              "type": "string"
            },
            "text/plain": [
              "\"What is Lorem Ipsum?\\n\\nLorem Ipsum is simply dummy text of the printing and \\ntypesetting industry. Lorem Ipsum has been the industry's \\nstandard dummy text ever since the 1500s, when an unknown \\nprinter took a galley of type and scrambled it to make a \\ntype specimen book. It has survived not only five centuries, \\nbut also the leap into electronic typesetting, \\nremaining essentially unchanged. \\n\\nIt was popularised in the 1960s with the release of Letraset \\nsheets containing Lorem Ipsum passages, and more recently \\nwith desktop publishing software like Aldus PageMaker \\nincluding versions of Lorem Ipsum.\""
            ]
          },
          "execution_count": 5,
          "metadata": {},
          "output_type": "execute_result"
        }
      ],
      "source": [
        "info"
      ]
    },
    {
      "cell_type": "code",
      "execution_count": 6,
      "metadata": {
        "colab": {
          "base_uri": "https://localhost:8080/"
        },
        "id": "TF5lW1Du0VbW",
        "outputId": "82e11678-74bd-46c3-d021-ace9cb8936df"
      },
      "outputs": [
        {
          "name": "stdout",
          "output_type": "stream",
          "text": [
            "['What', 'is', 'Lorem', 'Ipsum', '?', 'Lorem', 'Ipsum', 'is', 'simply', 'dummy', 'text', 'of', 'the', 'printing', 'and', 'typesetting', 'industry', '.', 'Lorem', 'Ipsum', 'has', 'been', 'the', 'industry', \"'s\", 'standard', 'dummy', 'text', 'ever', 'since', 'the', '1500s', ',', 'when', 'an', 'unknown', 'printer', 'took', 'a', 'galley', 'of', 'type', 'and', 'scrambled', 'it', 'to', 'make', 'a', 'type', 'specimen', 'book', '.', 'It', 'has', 'survived', 'not', 'only', 'five', 'centuries', ',', 'but', 'also', 'the', 'leap', 'into', 'electronic', 'typesetting', ',', 'remaining', 'essentially', 'unchanged', '.', 'It', 'was', 'popularised', 'in', 'the', '1960s', 'with', 'the', 'release', 'of', 'Letraset', 'sheets', 'containing', 'Lorem', 'Ipsum', 'passages', ',', 'and', 'more', 'recently', 'with', 'desktop', 'publishing', 'software', 'like', 'Aldus', 'PageMaker', 'including', 'versions', 'of', 'Lorem', 'Ipsum', '.']\n"
          ]
        }
      ],
      "source": [
        "#tokens\n",
        "tokens=nltk.word_tokenize(info)\n",
        "print(tokens)"
      ]
    },
    {
      "cell_type": "code",
      "execution_count": 7,
      "metadata": {
        "id": "zKpgHq5x0gec"
      },
      "outputs": [],
      "source": [
        "#smaller case\n",
        "unique=[]\n",
        "for t in tokens:\n",
        "  unique.append(t.lower())"
      ]
    },
    {
      "cell_type": "code",
      "execution_count": 10,
      "metadata": {
        "id": "z0QueUdp1IwW"
      },
      "outputs": [],
      "source": [
        "unique=set(unique)"
      ]
    },
    {
      "cell_type": "code",
      "execution_count": 11,
      "metadata": {
        "colab": {
          "base_uri": "https://localhost:8080/"
        },
        "id": "7Yv79PTm1JX3",
        "outputId": "6cb42a58-a71d-406e-ce14-1dc7f25c531d"
      },
      "outputs": [
        {
          "data": {
            "text/plain": [
              "{\"'s\",\n",
              " ',',\n",
              " '.',\n",
              " '1500s',\n",
              " '1960s',\n",
              " '?',\n",
              " 'a',\n",
              " 'aldus',\n",
              " 'also',\n",
              " 'an',\n",
              " 'and',\n",
              " 'been',\n",
              " 'book',\n",
              " 'but',\n",
              " 'centuries',\n",
              " 'containing',\n",
              " 'desktop',\n",
              " 'dummy',\n",
              " 'electronic',\n",
              " 'essentially',\n",
              " 'ever',\n",
              " 'five',\n",
              " 'galley',\n",
              " 'has',\n",
              " 'in',\n",
              " 'including',\n",
              " 'industry',\n",
              " 'into',\n",
              " 'ipsum',\n",
              " 'is',\n",
              " 'it',\n",
              " 'leap',\n",
              " 'letraset',\n",
              " 'like',\n",
              " 'lorem',\n",
              " 'make',\n",
              " 'more',\n",
              " 'not',\n",
              " 'of',\n",
              " 'only',\n",
              " 'pagemaker',\n",
              " 'passages',\n",
              " 'popularised',\n",
              " 'printer',\n",
              " 'printing',\n",
              " 'publishing',\n",
              " 'recently',\n",
              " 'release',\n",
              " 'remaining',\n",
              " 'scrambled',\n",
              " 'sheets',\n",
              " 'simply',\n",
              " 'since',\n",
              " 'software',\n",
              " 'specimen',\n",
              " 'standard',\n",
              " 'survived',\n",
              " 'text',\n",
              " 'the',\n",
              " 'to',\n",
              " 'took',\n",
              " 'type',\n",
              " 'typesetting',\n",
              " 'unchanged',\n",
              " 'unknown',\n",
              " 'versions',\n",
              " 'was',\n",
              " 'what',\n",
              " 'when',\n",
              " 'with'}"
            ]
          },
          "execution_count": 11,
          "metadata": {},
          "output_type": "execute_result"
        }
      ],
      "source": [
        "unique"
      ]
    },
    {
      "cell_type": "code",
      "execution_count": 14,
      "metadata": {
        "id": "9bvuK-lC1Uie"
      },
      "outputs": [],
      "source": [
        "stopwords=stopwords.words('english')"
      ]
    },
    {
      "cell_type": "code",
      "execution_count": 15,
      "metadata": {
        "colab": {
          "base_uri": "https://localhost:8080/"
        },
        "id": "nSJeC2KV1cJX",
        "outputId": "99725a80-a6c6-401e-9990-1b3b604bb463"
      },
      "outputs": [
        {
          "data": {
            "text/plain": [
              "['i',\n",
              " 'me',\n",
              " 'my',\n",
              " 'myself',\n",
              " 'we',\n",
              " 'our',\n",
              " 'ours',\n",
              " 'ourselves',\n",
              " 'you',\n",
              " \"you're\",\n",
              " \"you've\",\n",
              " \"you'll\",\n",
              " \"you'd\",\n",
              " 'your',\n",
              " 'yours',\n",
              " 'yourself',\n",
              " 'yourselves',\n",
              " 'he',\n",
              " 'him',\n",
              " 'his',\n",
              " 'himself',\n",
              " 'she',\n",
              " \"she's\",\n",
              " 'her',\n",
              " 'hers',\n",
              " 'herself',\n",
              " 'it',\n",
              " \"it's\",\n",
              " 'its',\n",
              " 'itself',\n",
              " 'they',\n",
              " 'them',\n",
              " 'their',\n",
              " 'theirs',\n",
              " 'themselves',\n",
              " 'what',\n",
              " 'which',\n",
              " 'who',\n",
              " 'whom',\n",
              " 'this',\n",
              " 'that',\n",
              " \"that'll\",\n",
              " 'these',\n",
              " 'those',\n",
              " 'am',\n",
              " 'is',\n",
              " 'are',\n",
              " 'was',\n",
              " 'were',\n",
              " 'be',\n",
              " 'been',\n",
              " 'being',\n",
              " 'have',\n",
              " 'has',\n",
              " 'had',\n",
              " 'having',\n",
              " 'do',\n",
              " 'does',\n",
              " 'did',\n",
              " 'doing',\n",
              " 'a',\n",
              " 'an',\n",
              " 'the',\n",
              " 'and',\n",
              " 'but',\n",
              " 'if',\n",
              " 'or',\n",
              " 'because',\n",
              " 'as',\n",
              " 'until',\n",
              " 'while',\n",
              " 'of',\n",
              " 'at',\n",
              " 'by',\n",
              " 'for',\n",
              " 'with',\n",
              " 'about',\n",
              " 'against',\n",
              " 'between',\n",
              " 'into',\n",
              " 'through',\n",
              " 'during',\n",
              " 'before',\n",
              " 'after',\n",
              " 'above',\n",
              " 'below',\n",
              " 'to',\n",
              " 'from',\n",
              " 'up',\n",
              " 'down',\n",
              " 'in',\n",
              " 'out',\n",
              " 'on',\n",
              " 'off',\n",
              " 'over',\n",
              " 'under',\n",
              " 'again',\n",
              " 'further',\n",
              " 'then',\n",
              " 'once',\n",
              " 'here',\n",
              " 'there',\n",
              " 'when',\n",
              " 'where',\n",
              " 'why',\n",
              " 'how',\n",
              " 'all',\n",
              " 'any',\n",
              " 'both',\n",
              " 'each',\n",
              " 'few',\n",
              " 'more',\n",
              " 'most',\n",
              " 'other',\n",
              " 'some',\n",
              " 'such',\n",
              " 'no',\n",
              " 'nor',\n",
              " 'not',\n",
              " 'only',\n",
              " 'own',\n",
              " 'same',\n",
              " 'so',\n",
              " 'than',\n",
              " 'too',\n",
              " 'very',\n",
              " 's',\n",
              " 't',\n",
              " 'can',\n",
              " 'will',\n",
              " 'just',\n",
              " 'don',\n",
              " \"don't\",\n",
              " 'should',\n",
              " \"should've\",\n",
              " 'now',\n",
              " 'd',\n",
              " 'll',\n",
              " 'm',\n",
              " 'o',\n",
              " 're',\n",
              " 've',\n",
              " 'y',\n",
              " 'ain',\n",
              " 'aren',\n",
              " \"aren't\",\n",
              " 'couldn',\n",
              " \"couldn't\",\n",
              " 'didn',\n",
              " \"didn't\",\n",
              " 'doesn',\n",
              " \"doesn't\",\n",
              " 'hadn',\n",
              " \"hadn't\",\n",
              " 'hasn',\n",
              " \"hasn't\",\n",
              " 'haven',\n",
              " \"haven't\",\n",
              " 'isn',\n",
              " \"isn't\",\n",
              " 'ma',\n",
              " 'mightn',\n",
              " \"mightn't\",\n",
              " 'mustn',\n",
              " \"mustn't\",\n",
              " 'needn',\n",
              " \"needn't\",\n",
              " 'shan',\n",
              " \"shan't\",\n",
              " 'shouldn',\n",
              " \"shouldn't\",\n",
              " 'wasn',\n",
              " \"wasn't\",\n",
              " 'weren',\n",
              " \"weren't\",\n",
              " 'won',\n",
              " \"won't\",\n",
              " 'wouldn',\n",
              " \"wouldn't\"]"
            ]
          },
          "execution_count": 15,
          "metadata": {},
          "output_type": "execute_result"
        }
      ],
      "source": [
        "stopwords"
      ]
    },
    {
      "cell_type": "code",
      "execution_count": 16,
      "metadata": {
        "id": "qh33bTeX1iAs"
      },
      "outputs": [],
      "source": [
        "final_words=[]\n",
        "for t in unique:\n",
        "  if t  not in stopwords:\n",
        "    final_words.append(t)"
      ]
    },
    {
      "cell_type": "code",
      "execution_count": 17,
      "metadata": {
        "colab": {
          "base_uri": "https://localhost:8080/"
        },
        "id": "MWiMtzkG1w9N",
        "outputId": "bc2f9eeb-5b91-4c62-83cb-0e0433bdb776"
      },
      "outputs": [
        {
          "data": {
            "text/plain": [
              "[',',\n",
              " 'leap',\n",
              " 'desktop',\n",
              " 'publishing',\n",
              " 'including',\n",
              " 'standard',\n",
              " 'sheets',\n",
              " 'recently',\n",
              " 'remaining',\n",
              " 'text',\n",
              " 'printing',\n",
              " 'popularised',\n",
              " 'book',\n",
              " '1500s',\n",
              " 'scrambled',\n",
              " 'survived',\n",
              " 'also',\n",
              " '1960s',\n",
              " 'make',\n",
              " 'ipsum',\n",
              " 'electronic',\n",
              " 'industry',\n",
              " 'galley',\n",
              " 'type',\n",
              " 'passages',\n",
              " 'aldus',\n",
              " 'versions',\n",
              " 'lorem',\n",
              " 'printer',\n",
              " 'centuries',\n",
              " 'essentially',\n",
              " 'took',\n",
              " 'dummy',\n",
              " 'typesetting',\n",
              " 'unknown',\n",
              " 'pagemaker',\n",
              " 'like',\n",
              " 'ever',\n",
              " 'since',\n",
              " '.',\n",
              " '?',\n",
              " 'software',\n",
              " 'letraset',\n",
              " 'simply',\n",
              " 'release',\n",
              " 'containing',\n",
              " 'specimen',\n",
              " 'unchanged',\n",
              " \"'s\",\n",
              " 'five']"
            ]
          },
          "execution_count": 17,
          "metadata": {},
          "output_type": "execute_result"
        }
      ],
      "source": [
        "final_words"
      ]
    },
    {
      "cell_type": "code",
      "execution_count": 23,
      "metadata": {
        "id": "pcgp4ffh1x0X"
      },
      "outputs": [],
      "source": [
        "tokenizer=RegexpTokenizer(r'\\w+')   #whether anything which is an alphabet is present , there are at least one or more occurrences\n",
        "newtokens=tokenizer.tokenize(info)"
      ]
    },
    {
      "cell_type": "code",
      "execution_count": 24,
      "metadata": {
        "colab": {
          "base_uri": "https://localhost:8080/"
        },
        "id": "wsBkMlPj2Tda",
        "outputId": "4c672ade-a838-4cb2-971a-09ae6356278a"
      },
      "outputs": [
        {
          "data": {
            "text/plain": [
              "['What',\n",
              " 'is',\n",
              " 'Lorem',\n",
              " 'Ipsum',\n",
              " 'Lorem',\n",
              " 'Ipsum',\n",
              " 'is',\n",
              " 'simply',\n",
              " 'dummy',\n",
              " 'text',\n",
              " 'of',\n",
              " 'the',\n",
              " 'printing',\n",
              " 'and',\n",
              " 'typesetting',\n",
              " 'industry',\n",
              " 'Lorem',\n",
              " 'Ipsum',\n",
              " 'has',\n",
              " 'been',\n",
              " 'the',\n",
              " 'industry',\n",
              " 's',\n",
              " 'standard',\n",
              " 'dummy',\n",
              " 'text',\n",
              " 'ever',\n",
              " 'since',\n",
              " 'the',\n",
              " '1500s',\n",
              " 'when',\n",
              " 'an',\n",
              " 'unknown',\n",
              " 'printer',\n",
              " 'took',\n",
              " 'a',\n",
              " 'galley',\n",
              " 'of',\n",
              " 'type',\n",
              " 'and',\n",
              " 'scrambled',\n",
              " 'it',\n",
              " 'to',\n",
              " 'make',\n",
              " 'a',\n",
              " 'type',\n",
              " 'specimen',\n",
              " 'book',\n",
              " 'It',\n",
              " 'has',\n",
              " 'survived',\n",
              " 'not',\n",
              " 'only',\n",
              " 'five',\n",
              " 'centuries',\n",
              " 'but',\n",
              " 'also',\n",
              " 'the',\n",
              " 'leap',\n",
              " 'into',\n",
              " 'electronic',\n",
              " 'typesetting',\n",
              " 'remaining',\n",
              " 'essentially',\n",
              " 'unchanged',\n",
              " 'It',\n",
              " 'was',\n",
              " 'popularised',\n",
              " 'in',\n",
              " 'the',\n",
              " '1960s',\n",
              " 'with',\n",
              " 'the',\n",
              " 'release',\n",
              " 'of',\n",
              " 'Letraset',\n",
              " 'sheets',\n",
              " 'containing',\n",
              " 'Lorem',\n",
              " 'Ipsum',\n",
              " 'passages',\n",
              " 'and',\n",
              " 'more',\n",
              " 'recently',\n",
              " 'with',\n",
              " 'desktop',\n",
              " 'publishing',\n",
              " 'software',\n",
              " 'like',\n",
              " 'Aldus',\n",
              " 'PageMaker',\n",
              " 'including',\n",
              " 'versions',\n",
              " 'of',\n",
              " 'Lorem',\n",
              " 'Ipsum']"
            ]
          },
          "execution_count": 24,
          "metadata": {},
          "output_type": "execute_result"
        }
      ],
      "source": [
        "newtokens"
      ]
    },
    {
      "cell_type": "code",
      "execution_count": 28,
      "metadata": {
        "id": "ReEmi4bU2oDa"
      },
      "outputs": [],
      "source": [
        "#generate bigrams and trigrams\n",
        "bigrams=list(nltk.bigrams(newtokens))"
      ]
    },
    {
      "cell_type": "code",
      "execution_count": 29,
      "metadata": {
        "colab": {
          "base_uri": "https://localhost:8080/"
        },
        "id": "evarSTyU2-Fc",
        "outputId": "5a87aa15-ba9e-4d52-b827-641231b4e0d2"
      },
      "outputs": [
        {
          "data": {
            "text/plain": [
              "[('What', 'is'),\n",
              " ('is', 'Lorem'),\n",
              " ('Lorem', 'Ipsum'),\n",
              " ('Ipsum', 'Lorem'),\n",
              " ('Lorem', 'Ipsum'),\n",
              " ('Ipsum', 'is'),\n",
              " ('is', 'simply'),\n",
              " ('simply', 'dummy'),\n",
              " ('dummy', 'text'),\n",
              " ('text', 'of'),\n",
              " ('of', 'the'),\n",
              " ('the', 'printing'),\n",
              " ('printing', 'and'),\n",
              " ('and', 'typesetting'),\n",
              " ('typesetting', 'industry'),\n",
              " ('industry', 'Lorem'),\n",
              " ('Lorem', 'Ipsum'),\n",
              " ('Ipsum', 'has'),\n",
              " ('has', 'been'),\n",
              " ('been', 'the'),\n",
              " ('the', 'industry'),\n",
              " ('industry', 's'),\n",
              " ('s', 'standard'),\n",
              " ('standard', 'dummy'),\n",
              " ('dummy', 'text'),\n",
              " ('text', 'ever'),\n",
              " ('ever', 'since'),\n",
              " ('since', 'the'),\n",
              " ('the', '1500s'),\n",
              " ('1500s', 'when'),\n",
              " ('when', 'an'),\n",
              " ('an', 'unknown'),\n",
              " ('unknown', 'printer'),\n",
              " ('printer', 'took'),\n",
              " ('took', 'a'),\n",
              " ('a', 'galley'),\n",
              " ('galley', 'of'),\n",
              " ('of', 'type'),\n",
              " ('type', 'and'),\n",
              " ('and', 'scrambled'),\n",
              " ('scrambled', 'it'),\n",
              " ('it', 'to'),\n",
              " ('to', 'make'),\n",
              " ('make', 'a'),\n",
              " ('a', 'type'),\n",
              " ('type', 'specimen'),\n",
              " ('specimen', 'book'),\n",
              " ('book', 'It'),\n",
              " ('It', 'has'),\n",
              " ('has', 'survived'),\n",
              " ('survived', 'not'),\n",
              " ('not', 'only'),\n",
              " ('only', 'five'),\n",
              " ('five', 'centuries'),\n",
              " ('centuries', 'but'),\n",
              " ('but', 'also'),\n",
              " ('also', 'the'),\n",
              " ('the', 'leap'),\n",
              " ('leap', 'into'),\n",
              " ('into', 'electronic'),\n",
              " ('electronic', 'typesetting'),\n",
              " ('typesetting', 'remaining'),\n",
              " ('remaining', 'essentially'),\n",
              " ('essentially', 'unchanged'),\n",
              " ('unchanged', 'It'),\n",
              " ('It', 'was'),\n",
              " ('was', 'popularised'),\n",
              " ('popularised', 'in'),\n",
              " ('in', 'the'),\n",
              " ('the', '1960s'),\n",
              " ('1960s', 'with'),\n",
              " ('with', 'the'),\n",
              " ('the', 'release'),\n",
              " ('release', 'of'),\n",
              " ('of', 'Letraset'),\n",
              " ('Letraset', 'sheets'),\n",
              " ('sheets', 'containing'),\n",
              " ('containing', 'Lorem'),\n",
              " ('Lorem', 'Ipsum'),\n",
              " ('Ipsum', 'passages'),\n",
              " ('passages', 'and'),\n",
              " ('and', 'more'),\n",
              " ('more', 'recently'),\n",
              " ('recently', 'with'),\n",
              " ('with', 'desktop'),\n",
              " ('desktop', 'publishing'),\n",
              " ('publishing', 'software'),\n",
              " ('software', 'like'),\n",
              " ('like', 'Aldus'),\n",
              " ('Aldus', 'PageMaker'),\n",
              " ('PageMaker', 'including'),\n",
              " ('including', 'versions'),\n",
              " ('versions', 'of'),\n",
              " ('of', 'Lorem'),\n",
              " ('Lorem', 'Ipsum')]"
            ]
          },
          "execution_count": 29,
          "metadata": {},
          "output_type": "execute_result"
        }
      ],
      "source": [
        "bigrams"
      ]
    },
    {
      "cell_type": "code",
      "execution_count": 31,
      "metadata": {
        "colab": {
          "base_uri": "https://localhost:8080/"
        },
        "id": "1JThF_ff3Gzx",
        "outputId": "76f784b9-5b22-4cfd-f1c7-75cf33d4a2e7"
      },
      "outputs": [
        {
          "data": {
            "text/plain": [
              "[('What', 'is', 'Lorem'),\n",
              " ('is', 'Lorem', 'Ipsum'),\n",
              " ('Lorem', 'Ipsum', 'Lorem'),\n",
              " ('Ipsum', 'Lorem', 'Ipsum'),\n",
              " ('Lorem', 'Ipsum', 'is'),\n",
              " ('Ipsum', 'is', 'simply'),\n",
              " ('is', 'simply', 'dummy'),\n",
              " ('simply', 'dummy', 'text'),\n",
              " ('dummy', 'text', 'of'),\n",
              " ('text', 'of', 'the'),\n",
              " ('of', 'the', 'printing'),\n",
              " ('the', 'printing', 'and'),\n",
              " ('printing', 'and', 'typesetting'),\n",
              " ('and', 'typesetting', 'industry'),\n",
              " ('typesetting', 'industry', 'Lorem'),\n",
              " ('industry', 'Lorem', 'Ipsum'),\n",
              " ('Lorem', 'Ipsum', 'has'),\n",
              " ('Ipsum', 'has', 'been'),\n",
              " ('has', 'been', 'the'),\n",
              " ('been', 'the', 'industry'),\n",
              " ('the', 'industry', 's'),\n",
              " ('industry', 's', 'standard'),\n",
              " ('s', 'standard', 'dummy'),\n",
              " ('standard', 'dummy', 'text'),\n",
              " ('dummy', 'text', 'ever'),\n",
              " ('text', 'ever', 'since'),\n",
              " ('ever', 'since', 'the'),\n",
              " ('since', 'the', '1500s'),\n",
              " ('the', '1500s', 'when'),\n",
              " ('1500s', 'when', 'an'),\n",
              " ('when', 'an', 'unknown'),\n",
              " ('an', 'unknown', 'printer'),\n",
              " ('unknown', 'printer', 'took'),\n",
              " ('printer', 'took', 'a'),\n",
              " ('took', 'a', 'galley'),\n",
              " ('a', 'galley', 'of'),\n",
              " ('galley', 'of', 'type'),\n",
              " ('of', 'type', 'and'),\n",
              " ('type', 'and', 'scrambled'),\n",
              " ('and', 'scrambled', 'it'),\n",
              " ('scrambled', 'it', 'to'),\n",
              " ('it', 'to', 'make'),\n",
              " ('to', 'make', 'a'),\n",
              " ('make', 'a', 'type'),\n",
              " ('a', 'type', 'specimen'),\n",
              " ('type', 'specimen', 'book'),\n",
              " ('specimen', 'book', 'It'),\n",
              " ('book', 'It', 'has'),\n",
              " ('It', 'has', 'survived'),\n",
              " ('has', 'survived', 'not'),\n",
              " ('survived', 'not', 'only'),\n",
              " ('not', 'only', 'five'),\n",
              " ('only', 'five', 'centuries'),\n",
              " ('five', 'centuries', 'but'),\n",
              " ('centuries', 'but', 'also'),\n",
              " ('but', 'also', 'the'),\n",
              " ('also', 'the', 'leap'),\n",
              " ('the', 'leap', 'into'),\n",
              " ('leap', 'into', 'electronic'),\n",
              " ('into', 'electronic', 'typesetting'),\n",
              " ('electronic', 'typesetting', 'remaining'),\n",
              " ('typesetting', 'remaining', 'essentially'),\n",
              " ('remaining', 'essentially', 'unchanged'),\n",
              " ('essentially', 'unchanged', 'It'),\n",
              " ('unchanged', 'It', 'was'),\n",
              " ('It', 'was', 'popularised'),\n",
              " ('was', 'popularised', 'in'),\n",
              " ('popularised', 'in', 'the'),\n",
              " ('in', 'the', '1960s'),\n",
              " ('the', '1960s', 'with'),\n",
              " ('1960s', 'with', 'the'),\n",
              " ('with', 'the', 'release'),\n",
              " ('the', 'release', 'of'),\n",
              " ('release', 'of', 'Letraset'),\n",
              " ('of', 'Letraset', 'sheets'),\n",
              " ('Letraset', 'sheets', 'containing'),\n",
              " ('sheets', 'containing', 'Lorem'),\n",
              " ('containing', 'Lorem', 'Ipsum'),\n",
              " ('Lorem', 'Ipsum', 'passages'),\n",
              " ('Ipsum', 'passages', 'and'),\n",
              " ('passages', 'and', 'more'),\n",
              " ('and', 'more', 'recently'),\n",
              " ('more', 'recently', 'with'),\n",
              " ('recently', 'with', 'desktop'),\n",
              " ('with', 'desktop', 'publishing'),\n",
              " ('desktop', 'publishing', 'software'),\n",
              " ('publishing', 'software', 'like'),\n",
              " ('software', 'like', 'Aldus'),\n",
              " ('like', 'Aldus', 'PageMaker'),\n",
              " ('Aldus', 'PageMaker', 'including'),\n",
              " ('PageMaker', 'including', 'versions'),\n",
              " ('including', 'versions', 'of'),\n",
              " ('versions', 'of', 'Lorem'),\n",
              " ('of', 'Lorem', 'Ipsum')]"
            ]
          },
          "execution_count": 31,
          "metadata": {},
          "output_type": "execute_result"
        }
      ],
      "source": [
        "list(nltk.trigrams(newtokens))"
      ]
    },
    {
      "cell_type": "code",
      "execution_count": null,
      "metadata": {
        "id": "D_vjd9ap3JdH"
      },
      "outputs": [],
      "source": []
    }
  ],
  "metadata": {
    "colab": {
      "provenance": []
    },
    "kernelspec": {
      "display_name": "Python 3",
      "name": "python3"
    },
    "language_info": {
      "name": "python"
    }
  },
  "nbformat": 4,
  "nbformat_minor": 0
}
