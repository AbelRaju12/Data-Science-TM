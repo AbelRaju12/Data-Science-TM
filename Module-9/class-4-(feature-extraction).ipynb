{
 "cells": [
  {
   "cell_type": "code",
   "execution_count": 1,
   "metadata": {},
   "outputs": [],
   "source": [
    "import nltk\n",
    "from nltk import word_tokenize\n"
   ]
  },
  {
   "cell_type": "code",
   "execution_count": 2,
   "metadata": {},
   "outputs": [
    {
     "name": "stderr",
     "output_type": "stream",
     "text": [
      "[nltk_data] Downloading package punkt to\n",
      "[nltk_data]     C:\\Users\\LENOVO\\AppData\\Roaming\\nltk_data...\n",
      "[nltk_data]   Package punkt is already up-to-date!\n"
     ]
    },
    {
     "data": {
      "text/plain": [
       "True"
      ]
     },
     "execution_count": 2,
     "metadata": {},
     "output_type": "execute_result"
    }
   ],
   "source": [
    "nltk.download('punkt')\n"
   ]
  },
  {
   "cell_type": "code",
   "execution_count": 3,
   "metadata": {},
   "outputs": [],
   "source": [
    "# data=open('/content/demotext.txt',\"r\")\n",
    "# info=data.read()\n",
    "# data.close()\n",
    "info = \"What is Lorem Ipsum?\\n\\nLorem Ipsum is simply dummy text of the printing and \\ntypesetting industry. Lorem Ipsum has been the industry's \\nstandard dummy text ever since the 1500s, when an unknown \\nprinter took a galley of type and scrambled it to make a \\ntype specimen book. It has survived not only five centuries, \\nbut also the leap into electronic typesetting, \\nremaining essentially unchanged. \\n\\nIt was popularised in the 1960s with the release of Letraset \\nsheets containing Lorem Ipsum passages, and more recently \\nwith desktop publishing software like Aldus PageMaker \\nincluding versions of Lorem Ipsum.\""
   ]
  },
  {
   "cell_type": "code",
   "execution_count": 4,
   "metadata": {},
   "outputs": [
    {
     "name": "stdout",
     "output_type": "stream",
     "text": [
      "['What is Lorem Ipsum?', 'Lorem Ipsum is simply dummy text of the printing and \\ntypesetting industry.', \"Lorem Ipsum has been the industry's \\nstandard dummy text ever since the 1500s, when an unknown \\nprinter took a galley of type and scrambled it to make a \\ntype specimen book.\", 'It has survived not only five centuries, \\nbut also the leap into electronic typesetting, \\nremaining essentially unchanged.', 'It was popularised in the 1960s with the release of Letraset \\nsheets containing Lorem Ipsum passages, and more recently \\nwith desktop publishing software like Aldus PageMaker \\nincluding versions of Lorem Ipsum.']\n"
     ]
    }
   ],
   "source": [
    "#tokens\n",
    "tokens=nltk.sent_tokenize(info)\n",
    "print(tokens)"
   ]
  },
  {
   "cell_type": "code",
   "execution_count": 5,
   "metadata": {},
   "outputs": [],
   "source": [
    "#smaller case\n",
    "unique=[]\n",
    "for t in tokens:\n",
    "  unique.append(t.lower())"
   ]
  },
  {
   "cell_type": "code",
   "execution_count": 6,
   "metadata": {},
   "outputs": [
    {
     "data": {
      "text/plain": [
       "['what is lorem ipsum?',\n",
       " 'lorem ipsum is simply dummy text of the printing and \\ntypesetting industry.',\n",
       " \"lorem ipsum has been the industry's \\nstandard dummy text ever since the 1500s, when an unknown \\nprinter took a galley of type and scrambled it to make a \\ntype specimen book.\",\n",
       " 'it has survived not only five centuries, \\nbut also the leap into electronic typesetting, \\nremaining essentially unchanged.',\n",
       " 'it was popularised in the 1960s with the release of letraset \\nsheets containing lorem ipsum passages, and more recently \\nwith desktop publishing software like aldus pagemaker \\nincluding versions of lorem ipsum.']"
      ]
     },
     "execution_count": 6,
     "metadata": {},
     "output_type": "execute_result"
    }
   ],
   "source": [
    "unique"
   ]
  },
  {
   "cell_type": "code",
   "execution_count": 7,
   "metadata": {},
   "outputs": [
    {
     "data": {
      "text/plain": [
       "['it was popularised in the 1960s with the release of letraset \\nsheets containing lorem ipsum passages, and more recently \\nwith desktop publishing software like aldus pagemaker \\nincluding versions of lorem ipsum.',\n",
       " 'it has survived not only five centuries, \\nbut also the leap into electronic typesetting, \\nremaining essentially unchanged.',\n",
       " 'what is lorem ipsum?',\n",
       " \"lorem ipsum has been the industry's \\nstandard dummy text ever since the 1500s, when an unknown \\nprinter took a galley of type and scrambled it to make a \\ntype specimen book.\",\n",
       " 'lorem ipsum is simply dummy text of the printing and \\ntypesetting industry.']"
      ]
     },
     "execution_count": 7,
     "metadata": {},
     "output_type": "execute_result"
    }
   ],
   "source": [
    "unique=list(set(unique))\n",
    "unique"
   ]
  },
  {
   "cell_type": "code",
   "execution_count": 8,
   "metadata": {},
   "outputs": [],
   "source": [
    "from sklearn.feature_extraction.text import TfidfVectorizer \n",
    "tf=TfidfVectorizer(min_df=1,lowercase=True,stop_words=\"english\")"
   ]
  },
  {
   "cell_type": "code",
   "execution_count": 9,
   "metadata": {},
   "outputs": [
    {
     "name": "stdout",
     "output_type": "stream",
     "text": [
      "  (0, 41)\t0.2322493536732197\n",
      "  (0, 11)\t0.2322493536732197\n",
      "  (0, 19)\t0.2322493536732197\n",
      "  (0, 2)\t0.2322493536732197\n",
      "  (0, 16)\t0.2322493536732197\n",
      "  (0, 31)\t0.2322493536732197\n",
      "  (0, 24)\t0.2322493536732197\n",
      "  (0, 6)\t0.2322493536732197\n",
      "  (0, 25)\t0.2322493536732197\n",
      "  (0, 20)\t0.2322493536732197\n",
      "  (0, 13)\t0.2616904693468486\n",
      "  (0, 17)\t0.2616904693468486\n",
      "  (0, 5)\t0.2322493536732197\n",
      "  (0, 29)\t0.2322493536732197\n",
      "  (0, 15)\t0.2322493536732197\n",
      "  (0, 26)\t0.2322493536732197\n",
      "  (0, 1)\t0.2322493536732197\n",
      "  (0, 21)\t0.2322493536732197\n",
      "  (1, 39)\t0.36152911730069653\n",
      "  (1, 9)\t0.36152911730069653\n",
      "  (1, 27)\t0.36152911730069653\n",
      "  (1, 38)\t0.2916794154657719\n",
      "  (1, 8)\t0.36152911730069653\n",
      "  (1, 14)\t0.36152911730069653\n",
      "  (1, 4)\t0.36152911730069653\n",
      "  :\t:\n",
      "  (2, 17)\t0.7071067811865476\n",
      "  (3, 3)\t0.24553245320083059\n",
      "  (3, 32)\t0.24553245320083059\n",
      "  (3, 18)\t0.24553245320083059\n",
      "  (3, 28)\t0.24553245320083059\n",
      "  (3, 37)\t0.49106490640166117\n",
      "  (3, 10)\t0.24553245320083059\n",
      "  (3, 36)\t0.24553245320083059\n",
      "  (3, 22)\t0.24553245320083059\n",
      "  (3, 40)\t0.24553245320083059\n",
      "  (3, 0)\t0.24553245320083059\n",
      "  (3, 35)\t0.198094037244389\n",
      "  (3, 7)\t0.198094037244389\n",
      "  (3, 33)\t0.24553245320083059\n",
      "  (3, 12)\t0.198094037244389\n",
      "  (3, 13)\t0.13832870124670976\n",
      "  (3, 17)\t0.13832870124670976\n",
      "  (4, 23)\t0.4369160641385045\n",
      "  (4, 30)\t0.4369160641385045\n",
      "  (4, 35)\t0.35250112949969903\n",
      "  (4, 7)\t0.35250112949969903\n",
      "  (4, 12)\t0.35250112949969903\n",
      "  (4, 38)\t0.35250112949969903\n",
      "  (4, 13)\t0.24615088929473958\n",
      "  (4, 17)\t0.24615088929473958\n"
     ]
    }
   ],
   "source": [
    "tf_matrix=tf.fit_transform(unique)\n",
    "print(tf_matrix)"
   ]
  },
  {
   "cell_type": "code",
   "execution_count": 10,
   "metadata": {},
   "outputs": [],
   "source": [
    "import pandas as pd\n"
   ]
  },
  {
   "cell_type": "code",
   "execution_count": 11,
   "metadata": {},
   "outputs": [],
   "source": [
    "feat=tf.get_feature_names_out()"
   ]
  },
  {
   "cell_type": "code",
   "execution_count": 12,
   "metadata": {},
   "outputs": [
    {
     "data": {
      "text/html": [
       "<div>\n",
       "<style scoped>\n",
       "    .dataframe tbody tr th:only-of-type {\n",
       "        vertical-align: middle;\n",
       "    }\n",
       "\n",
       "    .dataframe tbody tr th {\n",
       "        vertical-align: top;\n",
       "    }\n",
       "\n",
       "    .dataframe thead th {\n",
       "        text-align: right;\n",
       "    }\n",
       "</style>\n",
       "<table border=\"1\" class=\"dataframe\">\n",
       "  <thead>\n",
       "    <tr style=\"text-align: right;\">\n",
       "      <th></th>\n",
       "      <th>1500s</th>\n",
       "      <th>1960s</th>\n",
       "      <th>aldus</th>\n",
       "      <th>book</th>\n",
       "      <th>centuries</th>\n",
       "      <th>containing</th>\n",
       "      <th>desktop</th>\n",
       "      <th>dummy</th>\n",
       "      <th>electronic</th>\n",
       "      <th>essentially</th>\n",
       "      <th>...</th>\n",
       "      <th>specimen</th>\n",
       "      <th>standard</th>\n",
       "      <th>survived</th>\n",
       "      <th>text</th>\n",
       "      <th>took</th>\n",
       "      <th>type</th>\n",
       "      <th>typesetting</th>\n",
       "      <th>unchanged</th>\n",
       "      <th>unknown</th>\n",
       "      <th>versions</th>\n",
       "    </tr>\n",
       "  </thead>\n",
       "  <tbody>\n",
       "    <tr>\n",
       "      <th>0</th>\n",
       "      <td>0.000000</td>\n",
       "      <td>0.232249</td>\n",
       "      <td>0.232249</td>\n",
       "      <td>0.000000</td>\n",
       "      <td>0.000000</td>\n",
       "      <td>0.232249</td>\n",
       "      <td>0.232249</td>\n",
       "      <td>0.000000</td>\n",
       "      <td>0.000000</td>\n",
       "      <td>0.000000</td>\n",
       "      <td>...</td>\n",
       "      <td>0.000000</td>\n",
       "      <td>0.000000</td>\n",
       "      <td>0.000000</td>\n",
       "      <td>0.000000</td>\n",
       "      <td>0.000000</td>\n",
       "      <td>0.000000</td>\n",
       "      <td>0.000000</td>\n",
       "      <td>0.000000</td>\n",
       "      <td>0.000000</td>\n",
       "      <td>0.232249</td>\n",
       "    </tr>\n",
       "    <tr>\n",
       "      <th>1</th>\n",
       "      <td>0.000000</td>\n",
       "      <td>0.000000</td>\n",
       "      <td>0.000000</td>\n",
       "      <td>0.000000</td>\n",
       "      <td>0.361529</td>\n",
       "      <td>0.000000</td>\n",
       "      <td>0.000000</td>\n",
       "      <td>0.000000</td>\n",
       "      <td>0.361529</td>\n",
       "      <td>0.361529</td>\n",
       "      <td>...</td>\n",
       "      <td>0.000000</td>\n",
       "      <td>0.000000</td>\n",
       "      <td>0.361529</td>\n",
       "      <td>0.000000</td>\n",
       "      <td>0.000000</td>\n",
       "      <td>0.000000</td>\n",
       "      <td>0.291679</td>\n",
       "      <td>0.361529</td>\n",
       "      <td>0.000000</td>\n",
       "      <td>0.000000</td>\n",
       "    </tr>\n",
       "    <tr>\n",
       "      <th>2</th>\n",
       "      <td>0.000000</td>\n",
       "      <td>0.000000</td>\n",
       "      <td>0.000000</td>\n",
       "      <td>0.000000</td>\n",
       "      <td>0.000000</td>\n",
       "      <td>0.000000</td>\n",
       "      <td>0.000000</td>\n",
       "      <td>0.000000</td>\n",
       "      <td>0.000000</td>\n",
       "      <td>0.000000</td>\n",
       "      <td>...</td>\n",
       "      <td>0.000000</td>\n",
       "      <td>0.000000</td>\n",
       "      <td>0.000000</td>\n",
       "      <td>0.000000</td>\n",
       "      <td>0.000000</td>\n",
       "      <td>0.000000</td>\n",
       "      <td>0.000000</td>\n",
       "      <td>0.000000</td>\n",
       "      <td>0.000000</td>\n",
       "      <td>0.000000</td>\n",
       "    </tr>\n",
       "    <tr>\n",
       "      <th>3</th>\n",
       "      <td>0.245532</td>\n",
       "      <td>0.000000</td>\n",
       "      <td>0.000000</td>\n",
       "      <td>0.245532</td>\n",
       "      <td>0.000000</td>\n",
       "      <td>0.000000</td>\n",
       "      <td>0.000000</td>\n",
       "      <td>0.198094</td>\n",
       "      <td>0.000000</td>\n",
       "      <td>0.000000</td>\n",
       "      <td>...</td>\n",
       "      <td>0.245532</td>\n",
       "      <td>0.245532</td>\n",
       "      <td>0.000000</td>\n",
       "      <td>0.198094</td>\n",
       "      <td>0.245532</td>\n",
       "      <td>0.491065</td>\n",
       "      <td>0.000000</td>\n",
       "      <td>0.000000</td>\n",
       "      <td>0.245532</td>\n",
       "      <td>0.000000</td>\n",
       "    </tr>\n",
       "    <tr>\n",
       "      <th>4</th>\n",
       "      <td>0.000000</td>\n",
       "      <td>0.000000</td>\n",
       "      <td>0.000000</td>\n",
       "      <td>0.000000</td>\n",
       "      <td>0.000000</td>\n",
       "      <td>0.000000</td>\n",
       "      <td>0.000000</td>\n",
       "      <td>0.352501</td>\n",
       "      <td>0.000000</td>\n",
       "      <td>0.000000</td>\n",
       "      <td>...</td>\n",
       "      <td>0.000000</td>\n",
       "      <td>0.000000</td>\n",
       "      <td>0.000000</td>\n",
       "      <td>0.352501</td>\n",
       "      <td>0.000000</td>\n",
       "      <td>0.000000</td>\n",
       "      <td>0.352501</td>\n",
       "      <td>0.000000</td>\n",
       "      <td>0.000000</td>\n",
       "      <td>0.000000</td>\n",
       "    </tr>\n",
       "  </tbody>\n",
       "</table>\n",
       "<p>5 rows × 42 columns</p>\n",
       "</div>"
      ],
      "text/plain": [
       "      1500s     1960s     aldus      book  centuries  containing   desktop  \\\n",
       "0  0.000000  0.232249  0.232249  0.000000   0.000000    0.232249  0.232249   \n",
       "1  0.000000  0.000000  0.000000  0.000000   0.361529    0.000000  0.000000   \n",
       "2  0.000000  0.000000  0.000000  0.000000   0.000000    0.000000  0.000000   \n",
       "3  0.245532  0.000000  0.000000  0.245532   0.000000    0.000000  0.000000   \n",
       "4  0.000000  0.000000  0.000000  0.000000   0.000000    0.000000  0.000000   \n",
       "\n",
       "      dummy  electronic  essentially  ...  specimen  standard  survived  \\\n",
       "0  0.000000    0.000000     0.000000  ...  0.000000  0.000000  0.000000   \n",
       "1  0.000000    0.361529     0.361529  ...  0.000000  0.000000  0.361529   \n",
       "2  0.000000    0.000000     0.000000  ...  0.000000  0.000000  0.000000   \n",
       "3  0.198094    0.000000     0.000000  ...  0.245532  0.245532  0.000000   \n",
       "4  0.352501    0.000000     0.000000  ...  0.000000  0.000000  0.000000   \n",
       "\n",
       "       text      took      type  typesetting  unchanged   unknown  versions  \n",
       "0  0.000000  0.000000  0.000000     0.000000   0.000000  0.000000  0.232249  \n",
       "1  0.000000  0.000000  0.000000     0.291679   0.361529  0.000000  0.000000  \n",
       "2  0.000000  0.000000  0.000000     0.000000   0.000000  0.000000  0.000000  \n",
       "3  0.198094  0.245532  0.491065     0.000000   0.000000  0.245532  0.000000  \n",
       "4  0.352501  0.000000  0.000000     0.352501   0.000000  0.000000  0.000000  \n",
       "\n",
       "[5 rows x 42 columns]"
      ]
     },
     "execution_count": 12,
     "metadata": {},
     "output_type": "execute_result"
    }
   ],
   "source": [
    "pd.DataFrame(tf_matrix.toarray(),columns=feat)"
   ]
  },
  {
   "cell_type": "code",
   "execution_count": null,
   "metadata": {},
   "outputs": [],
   "source": []
  }
 ],
 "metadata": {
  "kernelspec": {
   "display_name": "Python 3",
   "language": "python",
   "name": "python3"
  },
  "language_info": {
   "codemirror_mode": {
    "name": "ipython",
    "version": 3
   },
   "file_extension": ".py",
   "mimetype": "text/x-python",
   "name": "python",
   "nbconvert_exporter": "python",
   "pygments_lexer": "ipython3",
   "version": "3.10.6"
  }
 },
 "nbformat": 4,
 "nbformat_minor": 2
}
